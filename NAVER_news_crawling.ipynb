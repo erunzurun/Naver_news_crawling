{
 "cells": [
  {
   "cell_type": "code",
   "execution_count": 1,
   "id": "dc331d28",
   "metadata": {},
   "outputs": [],
   "source": [
    "import sys, os\n",
    "import requests\n",
    "import selenium\n",
    "from selenium import webdriver\n",
    "import requests\n",
    "from pandas import DataFrame\n",
    "from bs4 import BeautifulSoup\n",
    "import re\n",
    "from datetime import datetime\n",
    "import pickle, progressbar, json, glob, time\n",
    "from tqdm import tqdm\n",
    "from selenium.webdriver.common.by import By\n",
    "from selenium.webdriver.common.keys import Keys\n",
    "import pandas as pd\n",
    "import numpy as np\n",
    "import csv\n",
    "import time"
   ]
  },
  {
   "cell_type": "code",
   "execution_count": 32,
   "id": "fd7e53c2",
   "metadata": {},
   "outputs": [],
   "source": [
    "def crawling_main_text(url):\n",
    "\n",
    "    specialChars = \"\\n\\r\\t\" \n",
    "    \n",
    "    req = requests.get(url)\n",
    "    req.encoding = None\n",
    "    soup = BeautifulSoup(req.text, 'html.parser')\n",
    "    \n",
    "    # 연합뉴스\n",
    "    if ('://yna' in url) | ('app.yonhapnews' in url): \n",
    "        main_article = soup.find('article', {'class':'story-news article'})\n",
    "        if main_article == None:\n",
    "            main_article = soup.find('div', {'class' : 'article-txt'})\n",
    "            \n",
    "        text = main_article.text\n",
    "        \n",
    "    # MBC \n",
    "    elif '//imnews.imbc' in url: \n",
    "        text = soup.find('div', {'class' : 'news_txt'}, {'itemprop' : 'articleBody'}).text\n",
    "        text = text.strip()\n",
    "        text = text.replace(\"\\r\",\"\")\n",
    "        \n",
    "#     # 매일경제(미라클), req.encoding = None 설정 필요\n",
    "#     elif 'mirakle.mk' in url:\n",
    "#         text = soup.find('div', {'class' : 'view_txt'}).text\n",
    "        \n",
    "    # 매일경제, req.encoding = None 설정 필요\n",
    "#     elif 'mk.co' in url:\n",
    "#         text = soup.find('div', {'class' : ['art_txt', 'read_txt', 'view_txt']})\n",
    "#         text.find('script').decompose()\n",
    "#         text = text.text\n",
    "#         text = text.strip()\n",
    "#         for specialChar in specialChars:\n",
    "#             text = text.replace(specialChar, '')\n",
    "        \n",
    "    # SBS\n",
    "    elif 'news.sbs' in url:\n",
    "        text = soup.find('div', {'itemprop' : 'articleBody'}).text\n",
    "    \n",
    "    # KBS\n",
    "    elif 'news.kbs' in url:\n",
    "        text = soup.find('div', {'id' : 'cont_newstext'}).text\n",
    "        \n",
    "    # JTBC\n",
    "    elif 'news.jtbc' in url:\n",
    "        text = soup.find('div', {'class' : 'article_content'}).text\n",
    "        \n",
    "    # 한겨레\n",
    "    elif 'hani.co' in url:\n",
    "        text = soup.find('div', {'class' : 'text'}).text\n",
    "        \n",
    "    # 동아일보\n",
    "    elif 'donga.com' in url:\n",
    "        text = soup.find('div', {'class' : 'article_txt'}).text\n",
    "        \n",
    "#     # 조선일보\n",
    "#     elif 'chosun' in url:\n",
    "#         main_article = soup.find('section', {'itemprop':'articleBody'})\n",
    "#         text = main_article.text\n",
    "        \n",
    "    # 중앙일보\n",
    "    elif 'joongang.co' in url:\n",
    "        text = soup.find('div', {'class' : 'article_body fs3'}).text\n",
    "        \n",
    "    #국민일보\n",
    "    elif 'kmib.co' in url:\n",
    "        text = soup.find('div', {'class' : 'tx'}).text\n",
    "        \n",
    "    else:\n",
    "        text == None\n",
    "        \n",
    "    return text.replace('\\n','').replace('\\r','').replace('<br>','').replace('\\t','')"
   ]
  },
  {
   "cell_type": "code",
   "execution_count": 98,
   "id": "b23ede86",
   "metadata": {},
   "outputs": [
    {
     "name": "stdout",
     "output_type": "stream",
     "text": [
      "수집 뉴스의 수(숫자만 입력) : 10\n",
      "검색어 입력: 금융\n",
      "시작 날짜 입력:2022.01.01\n",
      "끝나는 날짜 입력:2022.12.31\n",
      "검색할 언론사 : MBC\n",
      "크롤링 시작\n"
     ]
    },
    {
     "name": "stderr",
     "output_type": "stream",
     "text": [
      "\n",
      "  0%|                                                                                           | 0/50 [07:15<?, ?it/s]\u001b[A\n"
     ]
    },
    {
     "name": "stdout",
     "output_type": "stream",
     "text": [
      "크롤링 완료\n",
      "데이터프레임 변환\n",
      "\n"
     ]
    }
   ],
   "source": [
    "sleep_sec=0.5\n",
    "\n",
    "news_num = int(input('수집 뉴스의 수(숫자만 입력) : '))\n",
    "query = input(\"검색어 입력: \")\n",
    "s_date = input(\"시작 날짜 입력:\")\n",
    "e_date = input(\"끝나는 날짜 입력:\")\n",
    "sort = \"0\"\n",
    "# sort = input(\"뉴스 검색 방식 입력(관련도순=0  최신순=1  오래된순=2): \")    #관련도순=0  최신순=1  오래된순=2\n",
    "# media = input(\"언론사 입력:\")\n",
    "\n",
    "s_from = s_date.replace(\".\",\"\")\n",
    "e_to = e_date.replace(\".\",\"\")\n",
    "page = 0\n",
    "\n",
    "options = webdriver.ChromeOptions()\n",
    "driver = webdriver.Chrome(options=options)\n",
    "\n",
    "news_url = \"https://search.naver.com/search.naver?where=news&query=\" + query + \"&sort=\"+ sort +\"&ds=\" + s_date + \"&de=\" + e_date + \"&nso=so%3Ar%2Cp%3Afrom\" + s_from + \"to\" + e_to + \"%2Ca%3A&start=\" + str(page)\n",
    "\n",
    "# 웹 페이지 열기\n",
    "driver.get(news_url)\n",
    "time.sleep(sleep_sec)\n",
    "\n",
    "media = 'MBC'\n",
    "\n",
    "print(f'검색할 언론사 : {media}')\n",
    "\n",
    "if media == 'KBS':\n",
    "    office_section_code= \"15\"\n",
    "    news_office_checked = \"1056\"\n",
    "    next_page_url = \"https://search.naver.com/search.naver?where=news&query=\" + query + \"&sm=tab_opt&sort=\"+ sort +\"&photo=0&field=0&pd=3&ds=\" + s_date + \"&de=\" + e_date + \"&docid=&related=0&mynews=1&office_type=2&office_section_code=\"+ office_section_code +\"&news_office_checked=\"+ news_office_checked +\"&nso=so%3Ar%2Cp%3Afrom\" + s_from + \"to\" + e_to + \"&is_sug_officeid=0\"\n",
    "elif media == 'MBC':\n",
    "    office_section_code= \"15\"\n",
    "    news_office_checked = \"1214\"\n",
    "    next_page_url = \"https://search.naver.com/search.naver?where=news&query=\" + query + \"&sm=tab_opt&sort=\"+ sort +\"&photo=0&field=0&pd=3&ds=\" + s_date + \"&de=\" + e_date + \"&docid=&related=0&mynews=1&office_type=2&office_section_code=\"+ office_section_code +\"&news_office_checked=\"+ news_office_checked +\"&nso=so%3Ar%2Cp%3Afrom\" + s_from + \"to\" + e_to + \"&is_sug_officeid=0\"\n",
    "elif media == 'SBS':\n",
    "    office_section_code= \"15\"\n",
    "    news_office_checked = \"1055\"\n",
    "    next_page_url = \"https://search.naver.com/search.naver?where=news&query=\" + query + \"&sm=tab_opt&sort=\"+ sort +\"&photo=0&field=0&pd=3&ds=\" + s_date + \"&de=\" + e_date + \"&docid=&related=0&mynews=1&office_type=2&office_section_code=\"+ office_section_code +\"&news_office_checked=\"+ news_office_checked +\"&nso=so%3Ar%2Cp%3Afrom\" + s_from + \"to\" + e_to + \"&is_sug_officeid=0\"\n",
    "elif media == 'JTBC':\n",
    "    office_section_code= \"15\"\n",
    "    news_office_checked = \"1437\"\n",
    "    next_page_url = \"https://search.naver.com/search.naver?where=news&query=\" + query + \"&sm=tab_opt&sort=\"+ sort +\"&photo=0&field=0&pd=3&ds=\" + s_date + \"&de=\" + e_date + \"&docid=&related=0&mynews=1&office_type=2&office_section_code=\"+ office_section_code +\"&news_office_checked=\"+ news_office_checked +\"&nso=so%3Ar%2Cp%3Afrom\" + s_from + \"to\" + e_to + \"&is_sug_officeid=0\"\n",
    "elif media == '매일경제':\n",
    "    office_section_code= \"3\"\n",
    "    news_office_checked = \"1009\"\n",
    "    next_page_url = \"https://search.naver.com/search.naver?where=news&query=\" + query + \"&sm=tab_opt&sort=\"+ sort +\"&photo=0&field=0&pd=3&ds=\" + s_date + \"&de=\" + e_date + \"&docid=&related=0&mynews=1&office_type=2&office_section_code=\"+ office_section_code +\"&news_office_checked=\"+ news_office_checked +\"&nso=so%3Ar%2Cp%3Afrom\" + s_from + \"to\" + e_to + \"&is_sug_officeid=0\"\n",
    "elif media == '한겨레':\n",
    "    office_section_code= \"14\"\n",
    "    news_office_checked = \"1028\"\n",
    "    next_page_url = \"https://search.naver.com/search.naver?where=news&query=\" + query + \"&sm=tab_opt&sort=\"+ sort +\"&photo=0&field=0&pd=3&ds=\" + s_date + \"&de=\" + e_date + \"&docid=&related=0&mynews=1&office_type=2&office_section_code=\"+ office_section_code +\"&news_office_checked=\"+ news_office_checked +\"&nso=so%3Ar%2Cp%3Afrom\" + s_from + \"to\" + e_to + \"&is_sug_officeid=0\"\n",
    "elif media == '동아일보':\n",
    "    office_section_code= \"3\"\n",
    "    news_office_checked = \"1020\"\n",
    "    next_page_url = \"https://search.naver.com/search.naver?where=news&query=\" + query + \"&sm=tab_opt&sort=\"+ sort +\"&photo=0&field=0&pd=3&ds=\" + s_date + \"&de=\" + e_date + \"&docid=&related=0&mynews=1&office_type=2&office_section_code=\"+ office_section_code +\"&news_office_checked=\"+ news_office_checked +\"&nso=so%3Ar%2Cp%3Afrom\" + s_from + \"to\" + e_to + \"&is_sug_officeid=0\"\n",
    "elif media == '조선일보':\n",
    "    office_section_code= \"9\"\n",
    "    news_office_checked = \"1023\"\n",
    "    next_page_url = \"https://search.naver.com/search.naver?where=news&query=\" + query + \"&sm=tab_opt&sort=\"+ sort +\"&photo=0&field=0&pd=3&ds=\" + s_date + \"&de=\" + e_date + \"&docid=&related=0&mynews=1&office_type=2&office_section_code=\"+ office_section_code +\"&news_office_checked=\"+ news_office_checked +\"&nso=so%3Ar%2Cp%3Afrom\" + s_from + \"to\" + e_to + \"&is_sug_officeid=0\"\n",
    "elif media == '중앙일보':\n",
    "    office_section_code= \"9\"\n",
    "    news_office_checked = \"1025\"\n",
    "    next_page_url = \"https://search.naver.com/search.naver?where=news&query=\" + query + \"&sm=tab_opt&sort=\"+ sort +\"&photo=0&field=0&pd=3&ds=\" + s_date + \"&de=\" + e_date + \"&docid=&related=0&mynews=1&office_type=2&office_section_code=\"+ office_section_code +\"&news_office_checked=\"+ news_office_checked +\"&nso=so%3Ar%2Cp%3Afrom\" + s_from + \"to\" + e_to + \"&is_sug_officeid=0\"\n",
    "elif media == '국민일보':\n",
    "    office_section_code= \"1\"\n",
    "    news_office_checked = \"1005\"\n",
    "    next_page_url = \"https://search.naver.com/search.naver?where=news&query=\" + query + \"&sm=tab_opt&sort=\"+ sort +\"&photo=0&field=0&pd=3&ds=\" + s_date + \"&de=\" + e_date + \"&docid=&related=0&mynews=1&office_type=2&office_section_code=\"+ office_section_code +\"&news_office_checked=\"+ news_office_checked +\"&nso=so%3Ar%2Cp%3Afrom\" + s_from + \"to\" + e_to + \"&is_sug_officeid=0\"\n",
    "elif media == '연합뉴스':\n",
    "    office_section_code= \"8\"\n",
    "    news_office_checked = \"1001\"\n",
    "    next_page_url = \"https://search.naver.com/search.naver?where=news&query=\" + query + \"&sm=tab_opt&sort=\"+ sort +\"&photo=0&field=0&pd=3&ds=\" + s_date + \"&de=\" + e_date + \"&docid=&related=0&mynews=1&office_type=2&office_section_code=\"+ office_section_code +\"&news_office_checked=\"+ news_office_checked +\"&nso=so%3Ar%2Cp%3Afrom\" + s_from + \"to\" + e_to + \"&is_sug_officeid=0\"\n",
    "else:\n",
    "    pbar.close()        \n",
    "    print('\\nurl설정이 되지 않았습니다.\\n' + '=' * 100)\n",
    "    \n",
    "    \n",
    "date_list_1 = []\n",
    "date_list_2 = []\n",
    "news_dict = {}\n",
    "contents_dict = {}\n",
    "title_dict = {}\n",
    "url_dict = {}\n",
    "date_dict = {}\n",
    "\n",
    "idx = 0\n",
    "\n",
    "\n",
    "req = requests.get(next_page_url.format(query))\n",
    "soup = BeautifulSoup(req.text, 'html.parser')\n",
    "\n",
    "print('크롤링 시작')\n",
    "\n",
    "pbar = tqdm(total=news_num ,leave = True)\n",
    "\n",
    "while idx < news_num:\n",
    "    \n",
    "    table = soup.find('ul',{'class' : 'list_news'})\n",
    "    li_list = table.find_all('li', {'id': re.compile('sp_nws.*')})\n",
    "    area_list = [li.find('div', {'class' : 'news_area'}) for li in li_list]\n",
    "    a_list = [area.find('a', {'class' : 'news_tit'}) for area in area_list]\n",
    "    \n",
    "    for n in a_list[:min(len(a_list), news_num-idx)]:\n",
    "        news_dict[idx] = {'title' : n.get('title'),\n",
    "                          'url' : n.get('href') }\n",
    "        \n",
    "      \n",
    "    urls = [item['url'] for item in news_dict.values()]\n",
    "    contents = crawling_main_text(urls[idx])\n",
    "    contents_dict[idx] = {'contents' : contents}\n",
    "  \n",
    "    dates_info = [ date_info.get_text() for date_info in soup.find_all('span', attrs={'class':'info'})]\n",
    "    \n",
    "    for date_info in dates_info:\n",
    "        if re.search(r'\\d+.\\d+.\\d+.', date_info) != None:\n",
    "            date_list_1.append(date_info)\n",
    "           \n",
    "    date_list_2 += date_list_1\n",
    "        \n",
    "    idx += 1\n",
    "\n",
    "\n",
    "print('크롤링 완료')\n",
    "\n",
    "date_list_3 = []\n",
    "date_list_3 = date_list_2[0:news_num]\n",
    "\n",
    "query_2 = query.replace('\"', '')\n",
    "\n",
    "print('데이터프레임 변환\\n')\n",
    "news_df = DataFrame(news_dict).T\n",
    "contents_df = DataFrame(contents_dict).T\n",
    "date_df = pd.DataFrame(date_list_3, columns = ['date'])\n",
    "news_df_final = pd.concat([date_df, news_df, contents_df], axis = 1)\n",
    "csv_file_name = '네이버뉴스_{}_{}개_{}_{}~{}'.format(media, news_num, query_2, s_date, e_date)\n",
    "news_df_final.to_csv(\"./{}.csv\".format(csv_file_name), encoding='utf-8-sig',index=False)"
   ]
  },
  {
   "cell_type": "code",
   "execution_count": 68,
   "id": "1879e53a",
   "metadata": {},
   "outputs": [
    {
     "data": {
      "text/plain": [
       "{0: {'url': 'https://imnews.imbc.com/news/2022/politics/article/6337571_35666.html'}}"
      ]
     },
     "execution_count": 68,
     "metadata": {},
     "output_type": "execute_result"
    }
   ],
   "source": [
    "url_dict"
   ]
  },
  {
   "cell_type": "code",
   "execution_count": 76,
   "id": "6fdaa87a",
   "metadata": {},
   "outputs": [
    {
     "data": {
      "text/plain": [
       "{0: {'title': '문 대통령 \"오미크론이 가장 힘든 고비‥비상한 각오로 총력\"',\n",
       "  'url': 'https://imnews.imbc.com/news/2022/politics/article/6337571_35666.html'},\n",
       " 1: {'title': '문 대통령, 자가검사키트 공장·선별검사소 방문‥\"오미크론 대응에 집중\"',\n",
       "  'url': 'https://imnews.imbc.com/news/2022/politics/article/6337491_35666.html'},\n",
       " 2: {'title': '문 대통령 \"北 중거리 미사일, \\'핵·ICBM 유예\\' 모라토리움 파기 근처까지\"',\n",
       "  'url': 'https://imnews.imbc.com/news/2022/politics/article/6337450_35666.html'},\n",
       " 3: {'title': '문 대통령, 北 미사일 관련 NSC 전체 회의 긴급 소집‥1년 만에 주재',\n",
       "  'url': 'https://imnews.imbc.com/news/2022/politics/article/6337432_35666.html'},\n",
       " 4: {'title': '李·尹 토론회 열공‥이재명 \"국민통합 대통령\", 윤석열 \"사드 추가배치\"',\n",
       "  'url': 'https://imnews.imbc.com/replay/2022/nwdesk/article/6337514_35744.html'}}"
      ]
     },
     "execution_count": 76,
     "metadata": {},
     "output_type": "execute_result"
    }
   ],
   "source": [
    "news_dict"
   ]
  },
  {
   "cell_type": "code",
   "execution_count": 95,
   "id": "b019568f",
   "metadata": {},
   "outputs": [
    {
     "name": "stdout",
     "output_type": "stream",
     "text": [
      "['https://imnews.imbc.com/news/2022/politics/article/6337571_35666.html', 'https://imnews.imbc.com/news/2022/politics/article/6337491_35666.html', 'https://imnews.imbc.com/news/2022/politics/article/6337450_35666.html', 'https://imnews.imbc.com/news/2022/politics/article/6337432_35666.html', 'https://imnews.imbc.com/replay/2022/nwdesk/article/6337514_35744.html']\n"
     ]
    }
   ],
   "source": [
    "data = {\n",
    "    0: {'title': '문 대통령 \"오미크론이 가장 힘든 고비‥비상한 각오로 총력\"',\n",
    "        'url': 'https://imnews.imbc.com/news/2022/politics/article/6337571_35666.html'},\n",
    "    1: {'title': '문 대통령, 자가검사키트 공장·선별검사소 방문‥\"오미크론 대응에 집중\"',\n",
    "        'url': 'https://imnews.imbc.com/news/2022/politics/article/6337491_35666.html'},\n",
    "    2: {'title': '문 대통령 \"北 중거리 미사일, \\'핵·ICBM 유예\\' 모라토리움 파기 근처까지\"',\n",
    "        'url': 'https://imnews.imbc.com/news/2022/politics/article/6337450_35666.html'},\n",
    "    3: {'title': '문 대통령, 北 미사일 관련 NSC 전체 회의 긴급 소집‥1년 만에 주재',\n",
    "        'url': 'https://imnews.imbc.com/news/2022/politics/article/6337432_35666.html'},\n",
    "    4: {'title': '李·尹 토론회 열공‥이재명 \"국민통합 대통령\", 윤석열 \"사드 추가배치\"',\n",
    "        'url': 'https://imnews.imbc.com/replay/2022/nwdesk/article/6337514_35744.html'}\n",
    "}\n",
    "\n",
    "urls = [item['url'] for item in data.values()]\n",
    "\n",
    "print(urls)"
   ]
  },
  {
   "cell_type": "code",
   "execution_count": 83,
   "id": "2e1d1bed",
   "metadata": {},
   "outputs": [
    {
     "data": {
      "text/plain": [
       "dict_values([{'title': '문 대통령 \"오미크론이 가장 힘든 고비‥비상한 각오로 총력\"', 'url': 'https://imnews.imbc.com/news/2022/politics/article/6337571_35666.html'}, {'title': '문 대통령, 자가검사키트 공장·선별검사소 방문‥\"오미크론 대응에 집중\"', 'url': 'https://imnews.imbc.com/news/2022/politics/article/6337491_35666.html'}, {'title': '문 대통령 \"北 중거리 미사일, \\'핵·ICBM 유예\\' 모라토리움 파기 근처까지\"', 'url': 'https://imnews.imbc.com/news/2022/politics/article/6337450_35666.html'}, {'title': '문 대통령, 北 미사일 관련 NSC 전체 회의 긴급 소집‥1년 만에 주재', 'url': 'https://imnews.imbc.com/news/2022/politics/article/6337432_35666.html'}, {'title': '李·尹 토론회 열공‥이재명 \"국민통합 대통령\", 윤석열 \"사드 추가배치\"', 'url': 'https://imnews.imbc.com/replay/2022/nwdesk/article/6337514_35744.html'}])"
      ]
     },
     "execution_count": 83,
     "metadata": {},
     "output_type": "execute_result"
    }
   ],
   "source": [
    "data.values()"
   ]
  }
 ],
 "metadata": {
  "kernelspec": {
   "display_name": "Python 3 (ipykernel)",
   "language": "python",
   "name": "python3"
  },
  "language_info": {
   "codemirror_mode": {
    "name": "ipython",
    "version": 3
   },
   "file_extension": ".py",
   "mimetype": "text/x-python",
   "name": "python",
   "nbconvert_exporter": "python",
   "pygments_lexer": "ipython3",
   "version": "3.11.4"
  }
 },
 "nbformat": 4,
 "nbformat_minor": 5
}
